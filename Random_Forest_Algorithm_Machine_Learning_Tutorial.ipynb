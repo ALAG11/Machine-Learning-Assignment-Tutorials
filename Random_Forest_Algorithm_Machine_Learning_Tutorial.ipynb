{
  "nbformat": 4,
  "nbformat_minor": 0,
  "metadata": {
    "colab": {
      "provenance": []
    },
    "kernelspec": {
      "name": "python3",
      "display_name": "Python 3"
    },
    "language_info": {
      "name": "python"
    }
  },
  "cells": [
    {
      "cell_type": "code",
      "execution_count": null,
      "metadata": {
        "id": "Rt_K5OGA4RT_"
      },
      "outputs": [],
      "source": [
        "## Random Forest Algorithm ##"
      ]
    },
    {
      "cell_type": "code",
      "source": [
        "## Dataset Used - \"https://www.kaggle.com/datasets/arshid/iris-flower-dataset\""
      ],
      "metadata": {
        "id": "DIQKRAyt-FsB"
      },
      "execution_count": null,
      "outputs": []
    },
    {
      "cell_type": "code",
      "source": [
        "# importing required libraries\n",
        "# importing Scikit-learn library and datasets package\n",
        "from sklearn import datasets\n",
        "\n",
        "# Loading the iris plants dataset (classification)\n",
        "iris = datasets.load_iris()"
      ],
      "metadata": {
        "id": "UcjvKO1tHot7"
      },
      "execution_count": null,
      "outputs": []
    },
    {
      "cell_type": "code",
      "source": [
        "print(iris.target_names)"
      ],
      "metadata": {
        "colab": {
          "base_uri": "https://localhost:8080/"
        },
        "id": "ukixNpFSHrRJ",
        "outputId": "9d4291d4-4661-4264-d5f3-b8f4cf3e9c4d"
      },
      "execution_count": null,
      "outputs": [
        {
          "output_type": "stream",
          "name": "stdout",
          "text": [
            "['setosa' 'versicolor' 'virginica']\n"
          ]
        }
      ]
    },
    {
      "cell_type": "code",
      "source": [
        "print(iris.feature_names)"
      ],
      "metadata": {
        "colab": {
          "base_uri": "https://localhost:8080/"
        },
        "id": "zPfHBl6OHtP-",
        "outputId": "7e53708f-7f3f-45b4-9c0a-9e70fc0c5a54"
      },
      "execution_count": null,
      "outputs": [
        {
          "output_type": "stream",
          "name": "stdout",
          "text": [
            "['sepal length (cm)', 'sepal width (cm)', 'petal length (cm)', 'petal width (cm)']\n"
          ]
        }
      ]
    },
    {
      "cell_type": "code",
      "source": [
        "# dividing the datasets into two parts i.e. training datasets and test datasets\n",
        "X, y = datasets.load_iris( return_X_y = True)\n",
        "\n",
        "# Splitting arrays or matrices into random train and test subsets\n",
        "from sklearn.model_selection import train_test_split\n",
        "# i.e. 70 % training dataset and 30 % test datasets\n",
        "X_train, X_test, y_train, y_test = train_test_split(X, y, test_size = 0.30)"
      ],
      "metadata": {
        "id": "xFD3z9zrHvYg"
      },
      "execution_count": null,
      "outputs": []
    },
    {
      "cell_type": "code",
      "source": [
        "# importing random forest classifier from assemble module\n",
        "from sklearn.ensemble import RandomForestClassifier\n",
        "import pandas as pd\n",
        "# creating dataframe of IRIS dataset\n",
        "data = pd.DataFrame({'sepallength': iris.data[:, 0], 'sepalwidth': iris.data[:, 1],\n",
        "                     'petallength': iris.data[:, 2], 'petalwidth': iris.data[:, 3],\n",
        "                     'species': iris.target})"
      ],
      "metadata": {
        "id": "NIC7N3mHHzuD"
      },
      "execution_count": null,
      "outputs": []
    },
    {
      "cell_type": "code",
      "source": [
        "# printing the top 5 datasets in iris dataset\n",
        "print(data.head())"
      ],
      "metadata": {
        "colab": {
          "base_uri": "https://localhost:8080/"
        },
        "id": "U60-hIm2H2CR",
        "outputId": "eb771217-d0ff-4aad-a351-6cba53a28719"
      },
      "execution_count": null,
      "outputs": [
        {
          "output_type": "stream",
          "name": "stdout",
          "text": [
            "   sepallength  sepalwidth  petallength  petalwidth  species\n",
            "0          5.1         3.5          1.4         0.2        0\n",
            "1          4.9         3.0          1.4         0.2        0\n",
            "2          4.7         3.2          1.3         0.2        0\n",
            "3          4.6         3.1          1.5         0.2        0\n",
            "4          5.0         3.6          1.4         0.2        0\n"
          ]
        }
      ]
    },
    {
      "cell_type": "code",
      "source": [
        "# creating a RF classifier\n",
        "clf = RandomForestClassifier(n_estimators = 100)\n",
        "\n",
        "# Training the model on the training dataset\n",
        "# fit function is used to train the model using the training sets as parameters\n",
        "clf.fit(X_train, y_train)\n",
        "\n",
        "# performing predictions on the test dataset\n",
        "y_pred = clf.predict(X_test)\n",
        "\n",
        "# metrics are used to find accuracy or error\n",
        "from sklearn import metrics\n",
        "print()\n",
        "\n",
        "# using metrics module for accuracy calculation\n",
        "print(\"ACCURACY OF THE MODEL:\", metrics.accuracy_score(y_test, y_pred))"
      ],
      "metadata": {
        "colab": {
          "base_uri": "https://localhost:8080/"
        },
        "id": "ZkHPKe6TH4cU",
        "outputId": "2aa36166-dece-4ce7-c9db-7530d584c029"
      },
      "execution_count": null,
      "outputs": [
        {
          "output_type": "stream",
          "name": "stdout",
          "text": [
            "\n",
            "ACCURACY OF THE MODEL: 0.9777777777777777\n"
          ]
        }
      ]
    },
    {
      "cell_type": "code",
      "source": [
        "# predicting which type of flower it is.\n",
        "clf.predict([[3, 3, 2, 2]])"
      ],
      "metadata": {
        "colab": {
          "base_uri": "https://localhost:8080/"
        },
        "id": "Fgvu7ZGmH-Im",
        "outputId": "7de414f1-9c30-449b-f6c2-e6489b6b58a5"
      },
      "execution_count": null,
      "outputs": [
        {
          "output_type": "execute_result",
          "data": {
            "text/plain": [
              "array([0])"
            ]
          },
          "metadata": {},
          "execution_count": 19
        }
      ]
    },
    {
      "cell_type": "code",
      "source": [
        "# using the feature importance variable\n",
        "import pandas as pd\n",
        "feature_imp = pd.Series(clf.feature_importances_, index = iris.feature_names).sort_values(ascending = False)\n",
        "feature_imp"
      ],
      "metadata": {
        "colab": {
          "base_uri": "https://localhost:8080/"
        },
        "id": "-T4DVZOTIAKL",
        "outputId": "8312aa1e-f0b8-4ceb-df64-f82c99401430"
      },
      "execution_count": null,
      "outputs": [
        {
          "output_type": "execute_result",
          "data": {
            "text/plain": [
              "petal width (cm)     0.447459\n",
              "petal length (cm)    0.432716\n",
              "sepal length (cm)    0.094363\n",
              "sepal width (cm)     0.025462\n",
              "dtype: float64"
            ]
          },
          "metadata": {},
          "execution_count": 20
        }
      ]
    },
    {
      "cell_type": "code",
      "source": [
        "import matplotlib.pyplot as plt\n",
        "\n",
        "# Creating a bar plot\n",
        "plt.figure(figsize=(10,6))\n",
        "plt.bar(feature_imp.index, feature_imp.values, color='skyblue')\n",
        "plt.xlabel('Features')\n",
        "plt.ylabel('Feature Importance Score')\n",
        "plt.title('Feature Importance')\n",
        "plt.xticks(rotation=45)\n",
        "plt.show()\n"
      ],
      "metadata": {
        "colab": {
          "base_uri": "https://localhost:8080/",
          "height": 646
        },
        "id": "zF6xO0lqIDwL",
        "outputId": "3cf39f1c-5a44-4182-fc7d-27c8eba522c4"
      },
      "execution_count": null,
      "outputs": [
        {
          "output_type": "display_data",
          "data": {
            "text/plain": [
              "<Figure size 1000x600 with 1 Axes>"
            ],
            "image/png": "[encoded data removed]"
          },
          "metadata": {}
        }
      ]
    },
    {
      "cell_type": "code",
      "source": [
        "## EXIT ##"
      ],
      "metadata": {
        "id": "jxUGA49LIVoY"
      },
      "execution_count": null,
      "outputs": []
    }
  ]
}